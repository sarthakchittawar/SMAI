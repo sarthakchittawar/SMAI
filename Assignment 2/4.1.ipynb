{
 "cells": [
  {
   "cell_type": "markdown",
   "metadata": {},
   "source": [
    "# Imports"
   ]
  },
  {
   "cell_type": "code",
   "execution_count": 1,
   "metadata": {},
   "outputs": [],
   "source": [
    "import numpy as np\n",
    "import matplotlib.pyplot as plt\n",
    "import sklearn.decomposition as skd\n",
    "import PIL.Image as Image\n",
    "import os"
   ]
  },
  {
   "cell_type": "code",
   "execution_count": 2,
   "metadata": {},
   "outputs": [],
   "source": [
    "dir = 'KIMIA dataset'\n",
    "points = []\n",
    "images = []\n",
    "for file in os.listdir(dir):\n",
    "    img = np.array(Image.open(os.path.join(dir, file)))\n",
    "    images.append(img)\n",
    "    l = []\n",
    "    for i in range(img.shape[0]):\n",
    "        for j in range(img.shape[1]):\n",
    "            if img[i][j] == 0:\n",
    "                l.append([i, j])\n",
    "    points.append(l)"
   ]
  },
  {
   "cell_type": "markdown",
   "metadata": {},
   "source": [
    "# Implementation"
   ]
  },
  {
   "cell_type": "code",
   "execution_count": 3,
   "metadata": {},
   "outputs": [],
   "source": [
    "def calculate_pca(points):\n",
    "    points = np.array(points)\n",
    "    pca = skd.PCA(n_components=1).fit(points)\n",
    "    \n",
    "    return pca.components_[0]"
   ]
  },
  {
   "cell_type": "code",
   "execution_count": null,
   "metadata": {},
   "outputs": [],
   "source": [
    "input = np.random.choice(len(images))\n",
    "\n",
    "anchor_pts = points[input]\n",
    "\n",
    "anchor_eig = calculate_pca(anchor_pts)\n",
    "\n",
    "plt.figure(figsize=(2, 2))\n",
    "plt.imshow(images[input], cmap='gray')\n",
    "plt.axis('off')\n",
    "\n",
    "for i in range(len(images)):\n",
    "    if i != input:\n",
    "        pts = points[i]\n",
    "        eig = calculate_pca(pts)\n",
    "    \n",
    "        ang = np.arctan2(eig[0], eig[1]) - np.arctan2(anchor_eig[0], anchor_eig[1])\n",
    "        \n",
    "        plt.figure(figsize=(2, 2))\n",
    "        f, ax = plt.subplots(1,2)\n",
    "        ax[0].imshow(images[i], cmap='gray')\n",
    "        ax[0].axis('off')\n",
    "                \n",
    "        img = np.array(Image.fromarray(images[i]).rotate(np.degrees(ang)))\n",
    "        ax[1].imshow(Image.fromarray(img), cmap='gray')\n",
    "        ax[1].axis('off')\n",
    "        "
   ]
  },
  {
   "cell_type": "markdown",
   "metadata": {},
   "source": [
    "# Flowchart\n",
    "\n",
    "* The flowchart is given below in increasing order of steps.\n",
    "\n",
    "* `Step 1:` Calculate & store all `black` points in all images in form (x, y) --> \\\n",
    "`Step 2:` Select one anchor image randomly --> loop over all points --> \\\n",
    "`Step 3:` Calculate eigenvectors for each data point using pca (n = 2) --> \\\n",
    "`Step 4:` Compute the angle between the anchor vector and each other vector using arctan2 --> \\\n",
    "`Step 5:` Rotate each of the images by the respective calculated angles --> \\\n",
    "`Step 6:` Print the new images to observe the required alignment"
   ]
  }
 ],
 "metadata": {
  "kernelspec": {
   "display_name": "smai",
   "language": "python",
   "name": "python3"
  },
  "language_info": {
   "codemirror_mode": {
    "name": "ipython",
    "version": 3
   },
   "file_extension": ".py",
   "mimetype": "text/x-python",
   "name": "python",
   "nbconvert_exporter": "python",
   "pygments_lexer": "ipython3",
   "version": "3.11.4"
  },
  "orig_nbformat": 4
 },
 "nbformat": 4,
 "nbformat_minor": 2
}
